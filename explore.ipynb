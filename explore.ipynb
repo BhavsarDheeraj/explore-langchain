{
 "cells": [
  {
   "cell_type": "code",
   "execution_count": 12,
   "metadata": {},
   "outputs": [],
   "source": [
    "from langchain_openai import ChatOpenAI\n",
    "from langchain_core.prompts import ChatPromptTemplate\n",
    "from langchain_core.output_parsers import StrOutputParser\n"
   ]
  },
  {
   "cell_type": "code",
   "execution_count": 13,
   "metadata": {},
   "outputs": [],
   "source": [
    "llm = ChatOpenAI()"
   ]
  },
  {
   "cell_type": "code",
   "execution_count": 14,
   "metadata": {},
   "outputs": [],
   "source": [
    "prompt = ChatPromptTemplate.from_messages([\n",
    "    (\"system\", \"You are world class Teacher.\"),\n",
    "    (\"user\", \"{input}\")\n",
    "])"
   ]
  },
  {
   "cell_type": "code",
   "execution_count": 15,
   "metadata": {},
   "outputs": [],
   "source": [
    "output_parser = StrOutputParser()"
   ]
  },
  {
   "cell_type": "code",
   "execution_count": 16,
   "metadata": {},
   "outputs": [],
   "source": [
    "chain = prompt | llm | output_parser"
   ]
  },
  {
   "cell_type": "code",
   "execution_count": 18,
   "metadata": {},
   "outputs": [
    {
     "data": {
      "text/plain": [
       "\"To start learning a new language, such as Langchain, you can follow these steps:\\n\\n1. Set clear goals: Determine why you want to learn Langchain and what you hope to achieve by learning it. This will help you stay motivated and focused throughout your learning journey.\\n\\n2. Choose reliable resources: Look for textbooks, online courses, language learning apps, and other resources that are specifically designed to teach Langchain. Make sure to choose resources that are reputable and effective.\\n\\n3. Practice regularly: Consistent practice is key to language learning. Try to practice your Langchain skills every day, even if it's just for a few minutes. This can include listening to music or podcasts in Langchain, reading articles or books, watching videos, and speaking with native speakers if possible.\\n\\n4. Focus on speaking and listening: Language learning is not just about memorizing vocabulary and grammar rules. It's important to practice speaking and listening skills to become comfortable using the language in real-life situations.\\n\\n5. Find a language partner: If possible, find a language partner who is a native speaker of Langchain or is also learning the language. Practicing with a language partner can help you improve your speaking and listening skills, as well as provide cultural insights.\\n\\n6. Be patient and persistent: Learning a new language takes time and effort, so be patient with yourself and celebrate small victories along the way. Stay persistent and don't get discouraged by setbacks or challenges.\\n\\n7. Immerse yourself in the language: Surround yourself with Langchain as much as possible by listening to music, watching movies or TV shows, reading books, and engaging with native speakers. Immersing yourself in the language can help you improve your skills and gain a deeper understanding of the language and culture.\\n\\nRemember that language learning is a journey, and progress may not always be linear. Stay motivated, stay consistent, and enjoy the process of learning Langchain!\""
      ]
     },
     "execution_count": 18,
     "metadata": {},
     "output_type": "execute_result"
    }
   ],
   "source": [
    "chain.invoke({\"input\": \"how can one start learning langchain?\"})"
   ]
  }
 ],
 "metadata": {
  "kernelspec": {
   "display_name": ".venv",
   "language": "python",
   "name": "python3"
  },
  "language_info": {
   "codemirror_mode": {
    "name": "ipython",
    "version": 3
   },
   "file_extension": ".py",
   "mimetype": "text/x-python",
   "name": "python",
   "nbconvert_exporter": "python",
   "pygments_lexer": "ipython3",
   "version": "3.11.5"
  }
 },
 "nbformat": 4,
 "nbformat_minor": 2
}
